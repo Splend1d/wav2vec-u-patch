{
 "cells": [
  {
   "cell_type": "code",
   "execution_count": 1,
   "id": "b5e6fc55",
   "metadata": {},
   "outputs": [
    {
     "name": "stdout",
     "output_type": "stream",
     "text": [
      "['<SIL> S AH M W AH N D ER F AH L TH IH NG Z IH N DH AH K AE T AH K IH Z AH M <SIL>\\n', '<SIL> IH N DH AH K EY S AH V <SIL> DH AH F AY V M EH M B ER Z DH AH <SIL> K IH NG HH AE D <SIL> SH OW N HH AW L IH T AH L R AH G AA R D <SIL> HH IY HH AE D AE T L IY S T <SIL> HH AW L IH T AH L R AH G AA R D DH AH M IH S T R AH S AH V <SIL> HH IH Z K AW N S AH L Z <SIL> HH AE D F AO R DH AH <SIL> HH AH N ER AH V HH IH Z <SIL> AE D V AY Z ER Z <SIL>\\n', '<SIL> OW N L IY DH AH N OY Z <SIL> AH V <SIL> DH AH <SIL> B R UH K <SIL> L AE F IH NG HH AE P AH L IY AE Z IH T R EY S T OW V ER DH AH S T OW N Z B IH HH AY N D DH AH HH AW S B R OW K DH AH S AY L AH N S IH N DH AH R UW M <SIL>\\n', '<SIL> AY S AH P OW Z DH EH R IH Z AH N T M AH CH SH UW T IH NG T UW B IY HH AE D IH K S EH P T R AE B AH T S <SIL>\\n', '<SIL> B AH T <SIL> OW L D P AH B L IH K S K UW L M EH N SH R AW D DH EH R S K UW L L AY F IH N <SIL> AH <SIL> M IH S T AH V S EH N T AH M AH N T S OW DH EY F ER G EH T W AH T DH EY R IH L IY <SIL> D IH D <SIL>\\n']\n"
     ]
    }
   ],
   "source": [
    "# LibriTrain\n",
    "_libritrain_path = \"LibriLM.txt\"\n",
    "with open(_libritrain_path,\"r\") as f:\n",
    "    corpus = f.readlines()\n",
    "print(corpus[:5])\n",
    "from collections import defaultdict\n",
    "word2count = defaultdict(int)\n",
    "for line in corpus:\n",
    "    line = line.strip().split()\n",
    "    for w in line:\n",
    "        word2count[w] += 1\n",
    "words = list(word2count.keys())\n",
    "values = list(word2count.values())\n"
   ]
  },
  {
   "cell_type": "code",
   "execution_count": 2,
   "id": "c825e08d",
   "metadata": {},
   "outputs": [],
   "source": [
    "import pandas as pd\n",
    "df = pd.DataFrame()\n",
    "df[\"word\"] = words\n",
    "df[\"count\"] = values\n",
    "df.to_csv(\"./data/LibriLM.tsv\",sep = \"\\t\",index = False,header = False)"
   ]
  }
 ],
 "metadata": {
  "kernelspec": {
   "display_name": "Python 3 (ipykernel)",
   "language": "python",
   "name": "python3"
  },
  "language_info": {
   "codemirror_mode": {
    "name": "ipython",
    "version": 3
   },
   "file_extension": ".py",
   "mimetype": "text/x-python",
   "name": "python",
   "nbconvert_exporter": "python",
   "pygments_lexer": "ipython3",
   "version": "3.7.5"
  }
 },
 "nbformat": 4,
 "nbformat_minor": 5
}
