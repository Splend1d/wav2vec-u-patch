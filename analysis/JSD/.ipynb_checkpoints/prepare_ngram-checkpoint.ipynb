{
 "cells": [
  {
   "cell_type": "code",
   "execution_count": 2,
   "id": "8819b7ff",
   "metadata": {},
   "outputs": [
    {
     "name": "stdout",
     "output_type": "stream",
     "text": [
      "processing LibriLM.raw\n"
     ]
    }
   ],
   "source": [
    "import os\n",
    "from collections import Counter\n",
    "_data_path = \"./data\"\n",
    "for p in os.listdir(_data_path):\n",
    "    file_path = os.path.join(_data_path,p)\n",
    "    if \"LibriLM.raw\" in file_path:\n",
    "        print(\"processing\",p)\n",
    "        \n",
    "        ngrams = {x:Counter() for x in range(1,5)}\n",
    "        with open(file_path,\"r\") as f:\n",
    "            while True:\n",
    "                try:\n",
    "                    corpus_line = f.readline().strip().split()\n",
    "                except:\n",
    "                    break\n",
    "                if not len(corpus_line):\n",
    "                    break\n",
    "                corpus_line2 = [corpus_line[i]+\" \"+corpus_line[i+1] for i in range(len(corpus_line)-1)]\n",
    "                corpus_line3 = [corpus_line[i]+\" \"+corpus_line[i+1]+\" \"+corpus_line[i+2]  for i in range(len(corpus_line)-2)]\n",
    "                corpus_line4 = [corpus_line[i]+\" \"+corpus_line[i+1]+\" \"+corpus_line[i+2]+\" \"+corpus_line[i+3] for i in range(len(corpus_line)-3)]\n",
    "                #print(corpus_line,corpus_line2)\n",
    "                ngrams[1].update(Counter(corpus_line))\n",
    "                ngrams[2].update(Counter(corpus_line2))\n",
    "                ngrams[3].update(Counter(corpus_line3))\n",
    "                ngrams[4].update(Counter(corpus_line4))\n",
    "            #s()\n",
    "        ngramsout = {x:[] for x in range(1,5)}\n",
    "        for i in range(1,5):\n",
    "            ngramsout[i] = [k + \" \" + str(v) + \"\\n\" for k,v in ngrams[i].items()]\n",
    "            with open(os.path.join(_data_path,\"ngrams\",p+f\".{str(i)}gram\"),\"w\") as f:\n",
    "                f.writelines(ngramsout[i])"
   ]
  },
  {
   "cell_type": "code",
   "execution_count": null,
   "id": "65ec9235",
   "metadata": {},
   "outputs": [],
   "source": []
  }
 ],
 "metadata": {
  "kernelspec": {
   "display_name": "Python 3 (ipykernel)",
   "language": "python",
   "name": "python3"
  },
  "language_info": {
   "codemirror_mode": {
    "name": "ipython",
    "version": 3
   },
   "file_extension": ".py",
   "mimetype": "text/x-python",
   "name": "python",
   "nbconvert_exporter": "python",
   "pygments_lexer": "ipython3",
   "version": "3.7.5"
  }
 },
 "nbformat": 4,
 "nbformat_minor": 5
}
